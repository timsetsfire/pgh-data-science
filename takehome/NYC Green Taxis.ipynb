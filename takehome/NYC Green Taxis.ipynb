{
 "cells": [
  {
   "cell_type": "markdown",
   "metadata": {},
   "source": [
    "# Analysis of New York City Green Taxi Data\n",
    "\n",
    "### The objective\n",
    "\n",
    "Programmatically download the NYC green taxi data from [here](https://s3.amazonaws.com/nyc-tlc/trip+data/green_tripdata_2015-09.csv)\n",
    "\n",
    "Based on what you can find out about green taxis provide a count of how many transactions originate and terminate at one of the NYC area airports (JFK and LGA)"
   ]
  },
  {
   "cell_type": "markdown",
   "metadata": {},
   "source": [
    "# Concerning green taxis \n",
    "\n",
    "\n",
    "\n",
    "The goal of the Boro Taxi program is to improve access to street-hail transportation throughout the five boroughs – especially for persons with disabilities and people who live or spend time in areas of New York City historically underserved by the yellow taxi industry.  These Boro Taxis are referred as Green Taxis\n",
    "\n",
    "> [Boro Taxi drivers](http://www.nyc.gov/html/tlc/html/passenger/shl_passenger.shtml) can pick up passengers from the street in northern Manhattan (north of West 110th street and East 96th street), the Bronx, Queens (excluding the airports), Brooklyn and Staten Island and they may drop you off anywhere. Each vehicle is associated with a local car service that has been affiliated with the Boro Taxi program and can still participate in pre-arranged trips. Boro Taxi drivers can be dispatched to pick you up in northern Manhattan, the Bronx, Queens, Brooklyn and Staten Island and at the airports, but may not pick up any trips – pre-arranged or street hail – in the Manhattan exclusionary zone.\"\n",
    "\n",
    "Another article I came across in Forbes provides similar details [information](https://www.forbes.com/sites/johngiuffo/2013/09/30/nycs-new-green-taxis-what-you-should-know/#1b90ebc32a28) on fares which Green Taxis may pick up - \n",
    "> The rules for the owners of the new 'Boro Taxis,' as the green ones are dubbed, are simple: they are not allowed to pick up street hails on the home turf, as it were, of the yellow taxi – Manhattan below 110th St. on the West Side, and below 96th St. on the East Side, or at either LaGuardia or JFK airports. Otherwise, they can ply the streets anywhere else in the city, and can also be on call through a dispatcher.\n",
    "\n",
    "See below for a map highlighting the areas described above. Again, no fares may be picked up in the Yellow area.  The boro taxis have full reign over the \"Green\" area, and they may pick up prearranged fares from JFK and Laguardia (Grey area).  \n",
    "\n",
    "![title](http://www.nyc.gov/html/tlc/images/features/map_service_area.png)"
   ]
  },
  {
   "cell_type": "code",
   "execution_count": 1,
   "metadata": {},
   "outputs": [],
   "source": [
    "import numpy as np\n",
    "import pandas as pd\n",
    "import seaborn as sns\n",
    "import matplotlib.pyplot as plt\n",
    "import requests\n",
    "import io\n",
    "import os\n",
    "from pprint import pprint\n",
    "from pandasql import sqldf\n",
    "import json"
   ]
  },
  {
   "cell_type": "code",
   "execution_count": 2,
   "metadata": {},
   "outputs": [],
   "source": [
    "from green import * "
   ]
  },
  {
   "cell_type": "markdown",
   "metadata": {},
   "source": [
    "`codsc` contains useful functions to complete the tasks.  In my opinion, it is best to put helpers and utilities in a seperate python file that will be imported into the notebook - keeps things clean."
   ]
  },
  {
   "cell_type": "code",
   "execution_count": 3,
   "metadata": {},
   "outputs": [],
   "source": [
    "# sql on Pandas DataFrames!\n",
    "pysqldf = lambda q: sqldf(q, globals())"
   ]
  },
  {
   "cell_type": "code",
   "execution_count": 4,
   "metadata": {},
   "outputs": [],
   "source": [
    "%matplotlib inline"
   ]
  },
  {
   "cell_type": "markdown",
   "metadata": {},
   "source": [
    "## Get data\n"
   ]
  },
  {
   "cell_type": "code",
   "execution_count": 5,
   "metadata": {},
   "outputs": [],
   "source": [
    "## data.json contains information about the dataset, i.e., value labels\n",
    "## url, categorical columns and numerical columns.\n",
    "## this info was curated from http://www.nyc.gov/html/tlc/downloads/pdf/data_dictionary_trip_records_green.pdf\n",
    "with open('data.json') as json_data:\n",
    "    conf_dict = json.load(json_data)"
   ]
  },
  {
   "cell_type": "code",
   "execution_count": 7,
   "metadata": {},
   "outputs": [],
   "source": [
    "data = get_data()"
   ]
  },
  {
   "cell_type": "markdown",
   "metadata": {},
   "source": [
    "# Airport dropoffs and pickups\n",
    "\n",
    "\n",
    "Based on the rules governing Green Taxi fares, Green Taxis can only pick up fares from JFK or Laguardia which have been prearranged, therefore, I would imagine there will be a very limited number of fare originating from either NYC Area Airport.  \n",
    "\n",
    "JFK is a very easy ask, provided we trust the `RateCodeID` in the dataset.  Taxis trips to JFK are flatrate, and are logged accordingly.  So we could get an easy count of Fares originated or ended at JFK.  \n",
    "\n",
    "Laguardia trips aren't so easy and will require significantly more work!  Laguardia trips are regular rate fares so there is no marker in the record that will make this count as easy as the JFK ask.  \n",
    "\n",
    "#### Considerations\n",
    "\n",
    "1.  The markers in the data set are subject to human input.  So how good are they?\n",
    "2.  Latitude and Longitude of drop off and pick up are available.  \n",
    "\n",
    "\n",
    "## Solutions\n",
    "\n",
    "In order to provided the counts, the plan is as follows: Create a bounding box for JFK and Laguardia.  This is done by going to google maps and dropping pins around both airports and recording the latitude and longitude, then using [shapely](https://github.com/Toblerity/Shapely), we iterate through points and determine whether or not the pickup location and/or the dropoff location is contained in each airports bounding box.  It may be more apprporiate to convert the latitudes and longitudes to [Universal Traverse Mercator coordinate system](https://en.wikipedia.org/wiki/Universal_Transverse_Mercator_coordinate_system), but I think the results from my approach are good enough.  \n",
    "\n",
    "The point of doing JFK as well is to compare my construction against the `RateCodeID` in the dataset.  I am assuming that the geo locations are accurate.  \n",
    "\n",
    "I only thought of using the bounding boxes after I figured out that using the geocode from google wasn't going to work out so great.  The original plan was to use the RateCodeID, and the distances between the dropoff geo locale and JFK geolocale (as determined from google maps.  I was disregarding pickup locations since there should be a very small number of pickup at JFK.  I would then choose the median distance as the radius of a circle, which had center at JFK geo locale, then I would go through and see which points fell in the circle, but it just was not working out.  "
   ]
  },
  {
   "cell_type": "markdown",
   "metadata": {},
   "source": [
    "As mentioned previously, I will use bounding boxes to get a \"better\" count of the number of trips that start or end at JFK and LaGuardia.  The idea is to take lat and long coordinates and using polygons based on the coordinates to determine whether a particular point is in the polygon. "
   ]
  },
  {
   "cell_type": "code",
   "execution_count": 7,
   "metadata": {},
   "outputs": [],
   "source": [
    "## i constructed these bounding boxed by hand - going to google maps and \n",
    "## dropping points on the map\n",
    "jfk_bb = [(40.646198,-73.792402), \n",
    "          (40.640564,-73.789269), \n",
    "          (40.645677,-73.775322), \n",
    "          (40.649975,-73.782145)]\n",
    "lag_bb = [(40.766197,-73.862458),\n",
    "          (40.769317,-73.858123),\n",
    "          (40.771982,-73.871384),\n",
    "          (40.776845,-73.872357),\n",
    "          (40.767777,-73.885275),\n",
    "          (40.776942,-73.887592)]\n",
    "\n",
    "from shapely.geometry import Point\n",
    "from shapely.geometry.polygon import Polygon\n",
    "\n",
    "jfk_polygon = Polygon(jfk_bb)\n",
    "lag_polygon = Polygon(lag_bb)"
   ]
  },
  {
   "cell_type": "markdown",
   "metadata": {},
   "source": [
    "Below shows the points that will be used as vertices of the polygon that encloses JFK."
   ]
  },
  {
   "cell_type": "code",
   "execution_count": 8,
   "metadata": {},
   "outputs": [],
   "source": [
    "## if you find that the following cell won't display the map \n",
    "## check that you enabled the widgets with \n",
    "\n",
    "## jupyter nbextension enable --py --sys-prefix widgetsnbextension\n",
    "## jupyter nbextension enable --py --sys-prefix gmaps"
   ]
  },
  {
   "cell_type": "code",
   "execution_count": 9,
   "metadata": {},
   "outputs": [
    {
     "data": {
      "application/vnd.jupyter.widget-view+json": {
       "model_id": "05a6c0da2c114eb096952568edac6930",
       "version_major": 2,
       "version_minor": 0
      },
      "text/html": [
       "<p>Failed to display Jupyter Widget of type <code>Figure</code>.</p>\n",
       "<p>\n",
       "  If you're reading this message in the Jupyter Notebook or JupyterLab Notebook, it may mean\n",
       "  that the widgets JavaScript is still loading. If this message persists, it\n",
       "  likely means that the widgets JavaScript library is either not installed or\n",
       "  not enabled. See the <a href=\"https://ipywidgets.readthedocs.io/en/stable/user_install.html\">Jupyter\n",
       "  Widgets Documentation</a> for setup instructions.\n",
       "</p>\n",
       "<p>\n",
       "  If you're reading this message in another frontend (for example, a static\n",
       "  rendering on GitHub or <a href=\"https://nbviewer.jupyter.org/\">NBViewer</a>),\n",
       "  it may mean that your frontend doesn't currently support widgets.\n",
       "</p>\n"
      ],
      "text/plain": [
       "Figure(layout=FigureLayout(height='420px'))"
      ]
     },
     "metadata": {},
     "output_type": "display_data"
    }
   ],
   "source": [
    "import gmaps\n",
    "import os\n",
    "gmaps.configure(api_key = os.environ[\"GOOGLE_API_KEY\"])\n",
    "layers = [gmaps.symbol_layer(jfk_bb, fill_color=\"red\", stroke_color=\"red\", scale=3)]\n",
    "layers.append( gmaps.symbol_layer(lag_bb))\n",
    "\n",
    "fig_jfk = gmaps.figure()\n",
    "fig_jfk.add_layer(layers[0])\n",
    "fig_jfk"
   ]
  },
  {
   "cell_type": "markdown",
   "metadata": {},
   "source": [
    "The figures will not diplay appropriately when converted to HTML - so I'm included a static version\n",
    "![title](pics/jfk_bb.png)"
   ]
  },
  {
   "cell_type": "markdown",
   "metadata": {},
   "source": [
    "And below shows the vectices that will be used in the polygon to enclose LaGuardia"
   ]
  },
  {
   "cell_type": "code",
   "execution_count": 10,
   "metadata": {},
   "outputs": [
    {
     "data": {
      "application/vnd.jupyter.widget-view+json": {
       "model_id": "012279672b8c435fb3243f6572435ec3",
       "version_major": 2,
       "version_minor": 0
      },
      "text/html": [
       "<p>Failed to display Jupyter Widget of type <code>Figure</code>.</p>\n",
       "<p>\n",
       "  If you're reading this message in the Jupyter Notebook or JupyterLab Notebook, it may mean\n",
       "  that the widgets JavaScript is still loading. If this message persists, it\n",
       "  likely means that the widgets JavaScript library is either not installed or\n",
       "  not enabled. See the <a href=\"https://ipywidgets.readthedocs.io/en/stable/user_install.html\">Jupyter\n",
       "  Widgets Documentation</a> for setup instructions.\n",
       "</p>\n",
       "<p>\n",
       "  If you're reading this message in another frontend (for example, a static\n",
       "  rendering on GitHub or <a href=\"https://nbviewer.jupyter.org/\">NBViewer</a>),\n",
       "  it may mean that your frontend doesn't currently support widgets.\n",
       "</p>\n"
      ],
      "text/plain": [
       "Figure(layout=FigureLayout(height='420px'))"
      ]
     },
     "metadata": {},
     "output_type": "display_data"
    }
   ],
   "source": [
    "fig_lag = gmaps.figure()\n",
    "fig_lag.add_layer(layers[1])\n",
    "fig_lag"
   ]
  },
  {
   "cell_type": "markdown",
   "metadata": {},
   "source": [
    "The figures will not diplay appropriately when converted to HTML - so I'm included a static version\n",
    "![title](pics/lga_bb.png)"
   ]
  },
  {
   "cell_type": "markdown",
   "metadata": {},
   "source": [
    "### Fares with RateCodeID = JFK\n",
    "\n",
    "I'm going to compare my method to the fares actually tagged at JFK fares.  "
   ]
  },
  {
   "cell_type": "code",
   "execution_count": 11,
   "metadata": {},
   "outputs": [
    {
     "data": {
      "text/plain": [
       "{'1': 'Standard Rate',\n",
       " '2': 'JFK',\n",
       " '3': 'Newark',\n",
       " '4': 'Nassau or Westchester',\n",
       " '5': 'Negotiated Fare',\n",
       " '6': 'Group Ride'}"
      ]
     },
     "execution_count": 11,
     "metadata": {},
     "output_type": "execute_result"
    }
   ],
   "source": [
    "conf_dict[\"Columns\"][\"RateCodeID\"]"
   ]
  },
  {
   "cell_type": "code",
   "execution_count": 12,
   "metadata": {},
   "outputs": [
    {
     "data": {
      "text/plain": [
       "(4435, 21)"
      ]
     },
     "execution_count": 12,
     "metadata": {},
     "output_type": "execute_result"
    }
   ],
   "source": [
    "# grab all trips that had a rate code associated with JFK flat rate\n",
    "jfk_tagged_trips = data[data[\"RateCodeID\"] == 2]\n",
    "jfk_tagged_trips.shape"
   ]
  },
  {
   "cell_type": "markdown",
   "metadata": {},
   "source": [
    "The `RateCodeID` variable implies that there is 4,435 fares starting or ending at JFK.  Next I will use the latitude and longitude (both pickup and dropoff) to see how many of these fares are acutally withint the bounding box for JFK"
   ]
  },
  {
   "cell_type": "code",
   "execution_count": 13,
   "metadata": {},
   "outputs": [],
   "source": [
    "# pull out the starting latitude and longitude for each of the 4,435 fares\n",
    "start_geocode = list(zip(jfk_tagged_trips[\"Pickup_latitude\"],jfk_tagged_trips[\"Pickup_longitude\"]))\n",
    "# pull out the ending latitude and longitude for each of the 4,435 fares\n",
    "end_geocode = list(zip(jfk_tagged_trips[\"Dropoff_latitude\"],jfk_tagged_trips[\"Dropoff_longitude\"]))\n",
    "\n",
    "## create a list of Points\n",
    "start_points = list(map( lambda x: Point(x[0], x[1]), start_geocode))\n",
    "end_points = list(map( lambda x: Point(x[0], x[1]), end_geocode))"
   ]
  },
  {
   "cell_type": "code",
   "execution_count": 14,
   "metadata": {},
   "outputs": [
    {
     "name": "stdout",
     "output_type": "stream",
     "text": [
      "trips starting at jfk: 19\n",
      "trips ending at jfk: 2204\n"
     ]
    }
   ],
   "source": [
    "## create binary vectors for strips starting and ending at JFK\n",
    "starting_at_jfk = list(map( lambda x: 1*jfk_polygon.contains(x), start_points))\n",
    "ending_at_jfk = list(map( lambda x: 1*jfk_polygon.contains(x), end_points))\n",
    "\n",
    "print(\"trips starting at jfk: {}\".format(np.array(starting_at_jfk).sum()))\n",
    "print(\"trips ending at jfk: {}\".format(np.array(ending_at_jfk).sum()))"
   ]
  },
  {
   "cell_type": "markdown",
   "metadata": {},
   "source": [
    "Based on this approach almost half of the fares with RateCodeID corresponding to JFK actually start or end at JFK!  But, as I expected, the fares mainly end at JFK - since Green Taxis can only pick up pre-arranged fairs at JFK and LaGuardia.  Below is a plot of the first 10 observations of the `jfk_tagged_trips`.  Blue are all starting locations, green are all ending locations.  As you can see 2 out of the first 10 records were actually JFK fares.  "
   ]
  },
  {
   "cell_type": "code",
   "execution_count": 15,
   "metadata": {},
   "outputs": [
    {
     "data": {
      "application/vnd.jupyter.widget-view+json": {
       "model_id": "1a8c27e45bc8484dbdea668e4ec510eb",
       "version_major": 2,
       "version_minor": 0
      },
      "text/html": [
       "<p>Failed to display Jupyter Widget of type <code>Figure</code>.</p>\n",
       "<p>\n",
       "  If you're reading this message in the Jupyter Notebook or JupyterLab Notebook, it may mean\n",
       "  that the widgets JavaScript is still loading. If this message persists, it\n",
       "  likely means that the widgets JavaScript library is either not installed or\n",
       "  not enabled. See the <a href=\"https://ipywidgets.readthedocs.io/en/stable/user_install.html\">Jupyter\n",
       "  Widgets Documentation</a> for setup instructions.\n",
       "</p>\n",
       "<p>\n",
       "  If you're reading this message in another frontend (for example, a static\n",
       "  rendering on GitHub or <a href=\"https://nbviewer.jupyter.org/\">NBViewer</a>),\n",
       "  it may mean that your frontend doesn't currently support widgets.\n",
       "</p>\n"
      ],
      "text/plain": [
       "Figure(layout=FigureLayout(height='420px'))"
      ]
     },
     "metadata": {},
     "output_type": "display_data"
    }
   ],
   "source": [
    "## the first 10 trips in the jfk_tagged_trip dataset don't start or end at jfk\n",
    "starting = [gmaps.symbol_layer(start_geocode[0:10], fill_color=\"blue\",stroke_color=\"blue\", scale=3)]\n",
    "ending = [gmaps.symbol_layer(end_geocode[0:10], fill_color = \"green\",stroke_color=\"green\", scale=3)]\n",
    "\n",
    "fig_jfk = gmaps.figure()\n",
    "fig_jfk.add_layer(layers[0])\n",
    "fig_jfk.add_layer(starting[0])\n",
    "fig_jfk.add_layer(ending[0])\n",
    "fig_jfk"
   ]
  },
  {
   "cell_type": "markdown",
   "metadata": {},
   "source": [
    "The figures will not diplay appropriately when converted to HTML - so I'm included a static version\n",
    "![title](pics/first_ten.png)"
   ]
  },
  {
   "cell_type": "markdown",
   "metadata": {},
   "source": [
    "## JFK - full data set"
   ]
  },
  {
   "cell_type": "markdown",
   "metadata": {},
   "source": [
    "Next, we'll repeat the same analysis on the entire dataset.  "
   ]
  },
  {
   "cell_type": "code",
   "execution_count": 16,
   "metadata": {},
   "outputs": [],
   "source": [
    "## pull out the lat and long for all trips \n",
    "start_geocode = list(zip(data[\"Pickup_latitude\"],data[\"Pickup_longitude\"]))\n",
    "end_geocode = list(zip(data[\"Dropoff_latitude\"],data[\"Dropoff_longitude\"]))"
   ]
  },
  {
   "cell_type": "code",
   "execution_count": 17,
   "metadata": {},
   "outputs": [],
   "source": [
    "start_points = list(map( lambda x: Point(x[0], x[1]), start_geocode))\n",
    "end_points = list(map( lambda x: Point(x[0], x[1]), end_geocode))"
   ]
  },
  {
   "cell_type": "code",
   "execution_count": 18,
   "metadata": {},
   "outputs": [],
   "source": [
    "starting_at_jfk = list(map( lambda x: 1*jfk_polygon.contains(x), start_points))\n",
    "ending_at_jfk = list(map( lambda x: 1*jfk_polygon.contains(x), end_points))"
   ]
  },
  {
   "cell_type": "code",
   "execution_count": 19,
   "metadata": {},
   "outputs": [
    {
     "name": "stdout",
     "output_type": "stream",
     "text": [
      "trips starting at jfk: 269\n",
      "trips ending at jfk: 12,130\n"
     ]
    }
   ],
   "source": [
    "print(\"trips starting at jfk: {:,}\".format(np.array(starting_at_jfk).sum()))\n",
    "print(\"trips ending at jfk: {:,}\".format(np.array(ending_at_jfk).sum()))"
   ]
  },
  {
   "cell_type": "markdown",
   "metadata": {},
   "source": [
    "WOW!  I was actually suprised by this.  This method caught 12,130 trips, when there were only about 4,400 with RateCodeID = JFK.  \n",
    "\n",
    "Just to make sure, we visualize all the fares we tagged as terminating at JFK.  Based on the visual, I think it was a fairly successful approach.  what I dont' understand is why these would not be tagged appropriately.  It would be interesting to see the average fare amount of those that were not tagged correctly.  I may be able to get a better read on this count if I play around with the bounding box used for JFK.  "
   ]
  },
  {
   "cell_type": "code",
   "execution_count": 20,
   "metadata": {},
   "outputs": [],
   "source": [
    "e = filter( lambda x: jfk_polygon.contains(x), end_points) # keep all trips that terminate at jfk\n",
    "e = map( lambda loc: (loc.x, loc.y), e) # extract the lat and long"
   ]
  },
  {
   "cell_type": "code",
   "execution_count": 21,
   "metadata": {},
   "outputs": [
    {
     "data": {
      "application/vnd.jupyter.widget-view+json": {
       "model_id": "e3e3b801fe3a4fcca3fbf283938a8d4d",
       "version_major": 2,
       "version_minor": 0
      },
      "text/html": [
       "<p>Failed to display Jupyter Widget of type <code>Figure</code>.</p>\n",
       "<p>\n",
       "  If you're reading this message in the Jupyter Notebook or JupyterLab Notebook, it may mean\n",
       "  that the widgets JavaScript is still loading. If this message persists, it\n",
       "  likely means that the widgets JavaScript library is either not installed or\n",
       "  not enabled. See the <a href=\"https://ipywidgets.readthedocs.io/en/stable/user_install.html\">Jupyter\n",
       "  Widgets Documentation</a> for setup instructions.\n",
       "</p>\n",
       "<p>\n",
       "  If you're reading this message in another frontend (for example, a static\n",
       "  rendering on GitHub or <a href=\"https://nbviewer.jupyter.org/\">NBViewer</a>),\n",
       "  it may mean that your frontend doesn't currently support widgets.\n",
       "</p>\n"
      ],
      "text/plain": [
       "Figure(layout=FigureLayout(height='420px'))"
      ]
     },
     "metadata": {},
     "output_type": "display_data"
    }
   ],
   "source": [
    "fig = gmaps.figure()\n",
    "fig.add_layer(gmaps.heatmap_layer(e))\n",
    "fig"
   ]
  },
  {
   "cell_type": "markdown",
   "metadata": {},
   "source": [
    "The figures will not diplay appropriately when converted to HTML - so I'm included a static version\n",
    "![title](pics/jfk_heatmap.png)"
   ]
  },
  {
   "cell_type": "markdown",
   "metadata": {},
   "source": [
    "## LaGuardia\n",
    "\n",
    "We'll apply the same analysis to find the number of trips starting and ending at LaGuardia Airport."
   ]
  },
  {
   "cell_type": "code",
   "execution_count": 22,
   "metadata": {},
   "outputs": [],
   "source": [
    "starting_at_lag = list(map( lambda x: 1*lag_polygon.contains(x), start_points))\n",
    "ending_at_lag = list(map( lambda x: 1*lag_polygon.contains(x), end_points))"
   ]
  },
  {
   "cell_type": "code",
   "execution_count": 23,
   "metadata": {},
   "outputs": [
    {
     "name": "stdout",
     "output_type": "stream",
     "text": [
      "trips starting at lag: 264\n",
      "trips ending at lag: 14,357\n"
     ]
    }
   ],
   "source": [
    "print(\"trips starting at lag: {:,}\".format(np.array(starting_at_lag).sum()))\n",
    "print(\"trips ending at lag: {:,}\".format(np.array(ending_at_lag).sum()))"
   ]
  },
  {
   "cell_type": "code",
   "execution_count": 24,
   "metadata": {},
   "outputs": [],
   "source": [
    "e = filter( lambda x: lag_polygon.contains(x), end_points) # keep all trips that terminate at jfk\n",
    "e = map( lambda loc: (loc.x, loc.y), e) # extract the lat and long"
   ]
  },
  {
   "cell_type": "code",
   "execution_count": 25,
   "metadata": {},
   "outputs": [
    {
     "data": {
      "application/vnd.jupyter.widget-view+json": {
       "model_id": "bbfebda220994e219c0d2fc68eda188e",
       "version_major": 2,
       "version_minor": 0
      },
      "text/html": [
       "<p>Failed to display Jupyter Widget of type <code>Figure</code>.</p>\n",
       "<p>\n",
       "  If you're reading this message in the Jupyter Notebook or JupyterLab Notebook, it may mean\n",
       "  that the widgets JavaScript is still loading. If this message persists, it\n",
       "  likely means that the widgets JavaScript library is either not installed or\n",
       "  not enabled. See the <a href=\"https://ipywidgets.readthedocs.io/en/stable/user_install.html\">Jupyter\n",
       "  Widgets Documentation</a> for setup instructions.\n",
       "</p>\n",
       "<p>\n",
       "  If you're reading this message in another frontend (for example, a static\n",
       "  rendering on GitHub or <a href=\"https://nbviewer.jupyter.org/\">NBViewer</a>),\n",
       "  it may mean that your frontend doesn't currently support widgets.\n",
       "</p>\n"
      ],
      "text/plain": [
       "Figure(layout=FigureLayout(height='420px'))"
      ]
     },
     "metadata": {},
     "output_type": "display_data"
    }
   ],
   "source": [
    "fig = gmaps.figure()\n",
    "fig.add_layer(gmaps.heatmap_layer(e))\n",
    "fig"
   ]
  },
  {
   "cell_type": "markdown",
   "metadata": {},
   "source": [
    "The figures will not diplay appropriately when converted to HTML - so I'm included a static version\n",
    "![title](pics/lga_heatmap.png)"
   ]
  },
  {
   "cell_type": "markdown",
   "metadata": {},
   "source": [
    "The visual above shows that I'm directionally correct, but could stand to refine the bounding box for LGA.  For instance, the one red spot on the heatmap just below Grand Central Pkwy is New York LGA Airport Marriot.  I caught this unintentionally.  I'll have to pay closer attention to the `shapely` documentation for `Polygon`.  \n",
    "\n",
    "For JFK\n",
    "* trips starting at jfk: 269\n",
    "* trips ending at jfk: 12,130\n",
    "\n",
    "For LaGuardia\n",
    "* trips starting at LGA: 264\n",
    "* trips ending at LGA: 14,357"
   ]
  },
  {
   "cell_type": "code",
   "execution_count": 26,
   "metadata": {},
   "outputs": [],
   "source": [
    "# just some cleanup\n",
    "try:\n",
    "    del starting_at_lag, ending_at_lag, starting_at_jfk, ending_at_jfk, starting_points, end_points\n",
    "except:\n",
    "    pass"
   ]
  },
  {
   "cell_type": "code",
   "execution_count": null,
   "metadata": {},
   "outputs": [],
   "source": []
  }
 ],
 "metadata": {
  "hide_input": false,
  "kernelspec": {
   "display_name": "Python [conda env:fnb]",
   "language": "python",
   "name": "conda-env-fnb-py"
  },
  "language_info": {
   "codemirror_mode": {
    "name": "ipython",
    "version": 3
   },
   "file_extension": ".py",
   "mimetype": "text/x-python",
   "name": "python",
   "nbconvert_exporter": "python",
   "pygments_lexer": "ipython3",
   "version": "3.5.4"
  },
  "varInspector": {
   "cols": {
    "lenName": 16,
    "lenType": 16,
    "lenVar": 40
   },
   "kernels_config": {
    "python": {
     "delete_cmd_postfix": "",
     "delete_cmd_prefix": "del ",
     "library": "var_list.py",
     "varRefreshCmd": "print(var_dic_list())"
    },
    "r": {
     "delete_cmd_postfix": ") ",
     "delete_cmd_prefix": "rm(",
     "library": "var_list.r",
     "varRefreshCmd": "cat(var_dic_list()) "
    }
   },
   "types_to_exclude": [
    "module",
    "function",
    "builtin_function_or_method",
    "instance",
    "_Feature"
   ],
   "window_display": false
  }
 },
 "nbformat": 4,
 "nbformat_minor": 2
}
